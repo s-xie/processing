{
 "cells": [
  {
   "cell_type": "code",
   "execution_count": null,
   "metadata": {
    "collapsed": true
   },
   "outputs": [],
   "source": [
    "import numpy as np\n",
    "import pandas as pd\n",
    "import email\n",
    "import re\n",
    "import os\n",
    "import fnmatch\n",
    "from unidecode import unidecode"
   ]
  },
  {
   "cell_type": "code",
   "execution_count": null,
   "metadata": {
    "collapsed": true
   },
   "outputs": [],
   "source": [
    "pattern = '*.mbox'\n",
    "emails_path = 'path_here'\n",
    "email_files=[]\n",
    "for root, dirs, files in os.walk(emails_path):\n",
    "    for filename in fnmatch.filter(files, pattern):\n",
    "        email_files.append((filename, os.path.join(root, filename)))"
   ]
  },
  {
   "cell_type": "code",
   "execution_count": null,
   "metadata": {},
   "outputs": [],
   "source": [
    "emails_df = pd.DataFrame(columns=['file', 'message'])\n",
    "\n",
    "for email_file in email_files:\n",
    "    with open(email_file[1], 'r', encoding=\"ISO-8859-1\") as f:\n",
    "        content = f.read()\n",
    "        content = unidecode(content)\n",
    "        emails_df=emails_df.append({'file': email_file[1], 'message': content}, ignore_index=True)\n",
    "emails_df.head()"
   ]
  },
  {
   "cell_type": "code",
   "execution_count": null,
   "metadata": {
    "collapsed": true
   },
   "outputs": [],
   "source": [
    "## Helper functions\n",
    "def get_text_from_email(msg):\n",
    "    '''To get the content from email objects'''\n",
    "    parts = []\n",
    "    for part in msg.walk():\n",
    "        if part.get_content_type() == 'text/plain':\n",
    "            parts.append( part.get_payload() )\n",
    "    return ''.join(parts)\n",
    "\n",
    "def split_email_addresses(line):\n",
    "    '''To separate multiple email addresses'''\n",
    "    if line:\n",
    "        addrs = line.split(',')\n",
    "        addrs = frozenset(map(lambda x: x.strip(), addrs))\n",
    "    else:\n",
    "        addrs = None\n",
    "    return addrs"
   ]
  },
  {
   "cell_type": "code",
   "execution_count": null,
   "metadata": {},
   "outputs": [],
   "source": [
    "messages = list(map(email.message_from_string, emails_df['message']))\n",
    "keys = messages[0].keys()\n",
    "for key in keys:\n",
    "    emails_df[key] = [doc[key] for doc in messages]\n",
    "emails_df['content'] = list(map(get_text_from_email, messages))\n",
    "emails_df['From'] = emails_df['From'].map(split_email_addresses)\n",
    "emails_df['To'] = emails_df['To'].map(split_email_addresses)\n",
    "emails_df['user'] = emails_df['file'].map(lambda x:x.split('/')[0])\n",
    "del messages\n",
    "\n",
    "emails_df.head()"
   ]
  },
  {
   "cell_type": "code",
   "execution_count": null,
   "metadata": {
    "collapsed": true
   },
   "outputs": [],
   "source": [
    "OUTFILE = open('out_path', 'w+')\n",
    "\n",
    "headers = ['Date', 'From', 'Sent', 'To', 'X-To', 'Subject', 'cc', 'Cc', 'CC', 'Attachments',\n",
    "           'X-Mailer', 'MIME-Version', 'Content-Type', 'Precedence', 'Importance', 'FROM', 'TO', 'DATE', 'SENT']\n",
    "skiplinestarters = [\"<!--\", '========', '?', '________', '********', '-----']\n",
    "skiplinetokens = ['[IMAGE]']\n",
    "htmltokens = ['HTML', 'HEAD', 'TITLE', 'A']\n",
    "\n",
    "replacements = {\n",
    "    '=09': ''\n",
    "}\n",
    "replacement_starters = {\n",
    "    '> ': '',\n",
    "    '>': ''\n",
    "}\n",
    "\n",
    "valedictions = ['Best', 'Sincerely', 'Regards', 'Kind regards', 'Thanks', 'Cheers']\n",
    "\n",
    "eos_punc = ['.', '!', '?']\n",
    "sent_accumulator = []\n",
    "prev_line_was_val = False\n",
    "\n",
    "for email_body in emails_df[\"content\"]:\n",
    "    if 'Forwarded by' in email_body:\n",
    "        continue\n",
    "    for line in email_body.splitlines():\n",
    "        line = line.strip()\n",
    "        \n",
    "        if any(('<%s>' % htmltoken) in line for htmltoken in htmltokens):\n",
    "            break\n",
    "        if any(('</%s>' % htmltoken) in line for htmltoken in htmltokens):\n",
    "            break\n",
    "        \n",
    "        if not line:\n",
    "            continue\n",
    "        if any(skiptoken in line for skiptoken in skiplinetokens):\n",
    "            continue\n",
    "        if any((\"%s:\" % header) in line for header in headers):\n",
    "            continue\n",
    "        if any(starter in line for starter in skiplinestarters):\n",
    "            continue\n",
    "            \n",
    "        for key in replacements:\n",
    "            line = line.replace(key, replacements[key])\n",
    "        \n",
    "        for key in replacement_starters:\n",
    "            if line.startswith(key):\n",
    "                line = line[len(key):]\n",
    "            \n",
    "        if not line:\n",
    "            continue\n",
    "\n",
    "        if line.endswith('='):\n",
    "            OUTFILE.write(line[:-1])\n",
    "        elif any(line.startswith(val) for val in valedictions):\n",
    "            OUTFILE.write('%s\\n' % line)\n",
    "            prev_line_was_val = True\n",
    "        elif prev_line_was_val:\n",
    "            prev_line_was_val = False\n",
    "            OUTFILE.write('%s\\n' % line)\n",
    "        elif len(line.split(\" \"))<=1: \n",
    "            OUTFILE.write('%s\\n' % line)\n",
    "        elif re.match(r\"[0-9\\-\\(\\)]\", line) and len(line.split(\" \"))<=3:\n",
    "            OUTFILE.write('%s\\n' % line)\n",
    "        else:\n",
    "            if (any(line.endswith(punc) for punc in eos_punc) or re.search(r\"(\\d{5})\", line)):\n",
    "                if len(sent_accumulator)>0:\n",
    "                    sent_accumulator.append(line)\n",
    "                    accumulation = ' '.join(sent_accumulator)\n",
    "                    OUTFILE.write('%s\\n' % accumulation)\n",
    "                    sent_accumulator=[]\n",
    "                else:\n",
    "                    OUTFILE.write('%s\\n' % line)\n",
    "            else:\n",
    "                sent_accumulator.append(line)"
   ]
  }
 ],
 "metadata": {
  "kernelspec": {
   "display_name": "Python [default]",
   "language": "python",
   "name": "python3"
  },
  "language_info": {
   "codemirror_mode": {
    "name": "ipython",
    "version": 3
   },
   "file_extension": ".py",
   "mimetype": "text/x-python",
   "name": "python",
   "nbconvert_exporter": "python",
   "pygments_lexer": "ipython3",
   "version": "3.5.3"
  }
 },
 "nbformat": 4,
 "nbformat_minor": 2
}
